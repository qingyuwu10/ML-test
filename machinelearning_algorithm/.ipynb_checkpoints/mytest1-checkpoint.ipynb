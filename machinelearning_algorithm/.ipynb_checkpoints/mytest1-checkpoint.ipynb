{
 "cells": [
  {
   "cell_type": "code",
   "execution_count": 13,
   "metadata": {
    "collapsed": true
   },
   "outputs": [],
   "source": [
    "#matplotlib inline"
   ]
  },
  {
   "cell_type": "code",
   "execution_count": 30,
   "metadata": {
    "collapsed": true
   },
   "outputs": [],
   "source": [
    "import numpy as np  #导入numpy 库"
   ]
  },
  {
   "cell_type": "code",
   "execution_count": 31,
   "metadata": {
    "collapsed": true
   },
   "outputs": [],
   "source": [
    "from numpy import *"
   ]
  },
  {
   "cell_type": "code",
   "execution_count": 32,
   "metadata": {
    "collapsed": true
   },
   "outputs": [],
   "source": [
    "import matplotlib.pyplot as plt"
   ]
  },
  {
   "cell_type": "code",
   "execution_count": 33,
   "metadata": {
    "collapsed": true
   },
   "outputs": [],
   "source": [
    "#测试数据集  --二维list\n",
    "dataset = [[-0.017612,14.053064], [-1.395634,4.662541], [-0.752157,6.538620],[-1.322371,7.152853],[0.423363,11.054677],\n",
    "           [0.406704,7.067335], [0.667394,12.741452], [-2.460150,6.866805], [0.569411,9.548755], [-0.026632,10.427743],\n",
    "          [0.850433,6.920334], [1.347183,13.175500], [1.176813,3.167020], [-1.781871,9.097953]]"
   ]
  },
  {
   "cell_type": "code",
   "execution_count": 34,
   "metadata": {},
   "outputs": [
    {
     "data": {
      "text/plain": [
       "[[-0.017612, 14.053064],\n",
       " [-1.395634, 4.662541],\n",
       " [-0.752157, 6.53862],\n",
       " [-1.322371, 7.152853],\n",
       " [0.423363, 11.054677],\n",
       " [0.406704, 7.067335],\n",
       " [0.667394, 12.741452],\n",
       " [-2.46015, 6.866805],\n",
       " [0.569411, 9.548755],\n",
       " [-0.026632, 10.427743],\n",
       " [0.850433, 6.920334],\n",
       " [1.347183, 13.1755],\n",
       " [1.176813, 3.16702],\n",
       " [-1.781871, 9.097953]]"
      ]
     },
     "execution_count": 34,
     "metadata": {},
     "output_type": "execute_result"
    }
   ],
   "source": [
    "dataset"
   ]
  },
  {
   "cell_type": "code",
   "execution_count": 35,
   "metadata": {
    "collapsed": true
   },
   "outputs": [],
   "source": [
    "dataMat = mat(dataset).T"
   ]
  },
  {
   "cell_type": "code",
   "execution_count": 36,
   "metadata": {},
   "outputs": [
    {
     "data": {
      "text/plain": [
       "matrix([[-0.017612, -1.395634, -0.752157, -1.322371,  0.423363,\n",
       "          0.406704,  0.667394, -2.46015 ,  0.569411, -0.026632,\n",
       "          0.850433,  1.347183,  1.176813, -1.781871],\n",
       "        [14.053064,  4.662541,  6.53862 ,  7.152853, 11.054677,\n",
       "          7.067335, 12.741452,  6.866805,  9.548755, 10.427743,\n",
       "          6.920334, 13.1755  ,  3.16702 ,  9.097953]])"
      ]
     },
     "execution_count": 36,
     "metadata": {},
     "output_type": "execute_result"
    }
   ],
   "source": [
    "dataMat"
   ]
  },
  {
   "cell_type": "code",
   "execution_count": 37,
   "metadata": {},
   "outputs": [
    {
     "data": {
      "text/plain": [
       "array([[-0.017612, -1.395634, -0.752157, -1.322371,  0.423363,  0.406704,\n",
       "         0.667394, -2.46015 ,  0.569411, -0.026632,  0.850433,  1.347183,\n",
       "         1.176813, -1.781871]])"
      ]
     },
     "execution_count": 37,
     "metadata": {},
     "output_type": "execute_result"
    }
   ],
   "source": [
    "np.array( dataMat[0] )"
   ]
  },
  {
   "cell_type": "code",
   "execution_count": 38,
   "metadata": {},
   "outputs": [
    {
     "data": {
      "text/plain": [
       "<matplotlib.collections.PathCollection at 0x7f2cff269358>"
      ]
     },
     "execution_count": 38,
     "metadata": {},
     "output_type": "execute_result"
    }
   ],
   "source": [
    "plt.scatter(array(dataMat[0]),array(dataMat[1]),c='red', marker='o')"
   ]
  },
  {
   "cell_type": "code",
   "execution_count": 39,
   "metadata": {
    "collapsed": true
   },
   "outputs": [],
   "source": [
    "X = np.linspace(-2, 2, 100)"
   ]
  },
  {
   "cell_type": "code",
   "execution_count": 40,
   "metadata": {
    "collapsed": true
   },
   "outputs": [],
   "source": [
    "Y = 2.8*X +9"
   ]
  },
  {
   "cell_type": "code",
   "execution_count": 41,
   "metadata": {},
   "outputs": [
    {
     "data": {
      "text/plain": [
       "[<matplotlib.lines.Line2D at 0x7f2cff45d2e8>]"
      ]
     },
     "execution_count": 41,
     "metadata": {},
     "output_type": "execute_result"
    }
   ],
   "source": [
    "plt.plot(X,Y)"
   ]
  },
  {
   "cell_type": "code",
   "execution_count": 42,
   "metadata": {},
   "outputs": [
    {
     "data": {
      "image/png": "[encoded data removed]",
      "text/plain": [
       "<Figure size 432x288 with 1 Axes>"
      ]
     },
     "metadata": {},
     "output_type": "display_data"
    }
   ],
   "source": [
    "plt.show()"
   ]
  },
  {
   "cell_type": "code",
   "execution_count": null,
   "metadata": {
    "collapsed": true
   },
   "outputs": [],
   "source": []
  }
 ],
 "metadata": {
  "kernelspec": {
   "display_name": "Python 3",
   "language": "python",
   "name": "python3"
  },
  "language_info": {
   "codemirror_mode": {
    "name": "ipython",
    "version": 3
   },
   "file_extension": ".py",
   "mimetype": "text/x-python",
   "name": "python",
   "nbconvert_exporter": "python",
   "pygments_lexer": "ipython3",
   "version": "3.6.7"
  }
 },
 "nbformat": 4,
 "nbformat_minor": 2
}
