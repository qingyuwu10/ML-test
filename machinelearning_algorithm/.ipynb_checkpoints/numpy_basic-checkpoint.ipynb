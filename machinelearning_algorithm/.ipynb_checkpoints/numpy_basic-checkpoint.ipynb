{
 "cells": [
  {
   "cell_type": "code",
   "execution_count": 1,
   "metadata": {
    "collapsed": true
   },
   "outputs": [],
   "source": [
    "import numpy as np"
   ]
  },
  {
   "cell_type": "code",
   "execution_count": 2,
   "metadata": {
    "collapsed": true
   },
   "outputs": [],
   "source": [
    "myZero = np.zeros([3, 5])  #全0 矩阵"
   ]
  },
  {
   "cell_type": "code",
   "execution_count": 3,
   "metadata": {},
   "outputs": [
    {
     "name": "stdout",
     "output_type": "stream",
     "text": [
      "[[0. 0. 0. 0. 0.]\n",
      " [0. 0. 0. 0. 0.]\n",
      " [0. 0. 0. 0. 0.]]\n"
     ]
    }
   ],
   "source": [
    "print(myZero)"
   ]
  },
  {
   "cell_type": "code",
   "execution_count": 4,
   "metadata": {
    "collapsed": true
   },
   "outputs": [],
   "source": [
    "myOnes = np.ones([3, 5]) #全1矩阵"
   ]
  },
  {
   "cell_type": "code",
   "execution_count": 5,
   "metadata": {},
   "outputs": [
    {
     "name": "stdout",
     "output_type": "stream",
     "text": [
      "[[1. 1. 1. 1. 1.]\n",
      " [1. 1. 1. 1. 1.]\n",
      " [1. 1. 1. 1. 1.]]\n"
     ]
    }
   ],
   "source": [
    "print(myOnes)"
   ]
  },
  {
   "cell_type": "code",
   "execution_count": 6,
   "metadata": {
    "collapsed": true
   },
   "outputs": [],
   "source": [
    "myRand = np.random.rand(3,4)  # 3行4列的 0～1间的随机数"
   ]
  },
  {
   "cell_type": "code",
   "execution_count": 7,
   "metadata": {},
   "outputs": [
    {
     "name": "stdout",
     "output_type": "stream",
     "text": [
      "[[0.3866547  0.98743144 0.71804844 0.099076  ]\n",
      " [0.91588758 0.27060332 0.52537537 0.01649248]\n",
      " [0.34784277 0.56811528 0.9669045  0.51947737]]\n"
     ]
    }
   ],
   "source": [
    "print(myRand)"
   ]
  },
  {
   "cell_type": "code",
   "execution_count": 8,
   "metadata": {
    "collapsed": true
   },
   "outputs": [],
   "source": [
    "myEye = np.eye(3)   #3*3的单位矩阵"
   ]
  },
  {
   "cell_type": "code",
   "execution_count": 9,
   "metadata": {},
   "outputs": [
    {
     "name": "stdout",
     "output_type": "stream",
     "text": [
      "[[1. 0. 0.]\n",
      " [0. 1. 0.]\n",
      " [0. 0. 1.]]\n"
     ]
    }
   ],
   "source": [
    "print(myEye)"
   ]
  },
  {
   "cell_type": "code",
   "execution_count": 10,
   "metadata": {
    "collapsed": true
   },
   "outputs": [],
   "source": [
    "from numpy import *   #导入numpy下的所有函数"
   ]
  },
  {
   "cell_type": "code",
   "execution_count": 11,
   "metadata": {},
   "outputs": [
    {
     "name": "stdout",
     "output_type": "stream",
     "text": [
      "[[2. 1. 1.]\n",
      " [1. 2. 1.]\n",
      " [1. 1. 2.]]\n",
      "[[0. 1. 1.]\n",
      " [1. 0. 1.]\n",
      " [1. 1. 0.]]\n"
     ]
    }
   ],
   "source": [
    "myOnes = ones([3,3])\n",
    "myEye = eye(3)\n",
    "print(myOnes + myEye)\n",
    "print(myOnes - myEye)"
   ]
  },
  {
   "cell_type": "code",
   "execution_count": 12,
   "metadata": {},
   "outputs": [
    {
     "name": "stdout",
     "output_type": "stream",
     "text": [
      "[[10 20 30]\n",
      " [40 50 60]\n",
      " [70 80 90]]\n"
     ]
    }
   ],
   "source": [
    "myArray = array([[1,2,3], [4,5,6], [7,8,9]])\n",
    "a = 10\n",
    "print(a * myArray)"
   ]
  },
  {
   "cell_type": "code",
   "execution_count": 13,
   "metadata": {},
   "outputs": [
    {
     "name": "stdout",
     "output_type": "stream",
     "text": [
      "[[10 20 30]\n",
      " [40 50 60]\n",
      " [70 80 90]]\n"
     ]
    }
   ],
   "source": [
    "myMatrix = mat([[1,2,3], [4,5,6], [7,8,9]])\n",
    "a = 10\n",
    "print( a * myMatrix)"
   ]
  },
  {
   "cell_type": "code",
   "execution_count": 15,
   "metadata": {},
   "outputs": [
    {
     "data": {
      "text/plain": [
       "matrix([[1, 2, 3],\n",
       "        [4, 5, 6],\n",
       "        [7, 8, 9]])"
      ]
     },
     "execution_count": 15,
     "metadata": {},
     "output_type": "execute_result"
    }
   ],
   "source": [
    "\n",
    "myMatrix"
   ]
  },
  {
   "cell_type": "code",
   "execution_count": 16,
   "metadata": {},
   "outputs": [
    {
     "data": {
      "text/plain": [
       "array([[1, 2, 3],\n",
       "       [4, 5, 6],\n",
       "       [7, 8, 9]])"
      ]
     },
     "execution_count": 16,
     "metadata": {},
     "output_type": "execute_result"
    }
   ],
   "source": [
    "myArray"
   ]
  },
  {
   "cell_type": "code",
   "execution_count": 17,
   "metadata": {},
   "outputs": [
    {
     "name": "stdout",
     "output_type": "stream",
     "text": [
      "45\n",
      "45\n"
     ]
    }
   ],
   "source": [
    "print(sum(myMatrix))\n",
    "print(sum(myArray))"
   ]
  },
  {
   "cell_type": "code",
   "execution_count": 18,
   "metadata": {},
   "outputs": [
    {
     "name": "stdout",
     "output_type": "stream",
     "text": [
      "[[ 1.5  3.   4.5]\n",
      " [ 6.   7.5  9. ]\n",
      " [10.5 12.  13.5]]\n"
     ]
    }
   ],
   "source": [
    "myMatrix2 = 1.5 * ones([3,3])\n",
    "print(multiply(myMatrix,myMatrix2))   #对应元素相乘"
   ]
  },
  {
   "cell_type": "code",
   "execution_count": 19,
   "metadata": {},
   "outputs": [
    {
     "name": "stdout",
     "output_type": "stream",
     "text": [
      "[[ 1  4  9]\n",
      " [16 25 36]\n",
      " [49 64 81]]\n"
     ]
    }
   ],
   "source": [
    "print(power(myMatrix,2))"
   ]
  },
  {
   "cell_type": "code",
   "execution_count": 20,
   "metadata": {},
   "outputs": [
    {
     "name": "stdout",
     "output_type": "stream",
     "text": [
      "[[14]\n",
      " [32]\n",
      " [50]]\n"
     ]
    }
   ],
   "source": [
    "myMatrix3 = mat([[1], [2], [3]])\n",
    "print(myMatrix * myMatrix3)   #矩阵相乘"
   ]
  },
  {
   "cell_type": "code",
   "execution_count": 24,
   "metadata": {},
   "outputs": [
    {
     "name": "stdout",
     "output_type": "stream",
     "text": [
      "--------原矩阵-------\n",
      "[[1 2 3]\n",
      " [4 5 6]\n",
      " [7 8 9]]\n",
      "--------显示转置矩阵-------\n",
      "[[1 4 7]\n",
      " [2 5 8]\n",
      " [3 6 9]]\n",
      "--------原矩阵-------\n",
      "[[1 2 3]\n",
      " [4 5 6]\n",
      " [7 8 9]]\n",
      "--------转置后-------\n",
      "[[1 2 3]\n",
      " [4 5 6]\n",
      " [7 8 9]]\n",
      "--------原矩阵-------\n",
      "[[1 2 3]\n",
      " [4 5 6]\n",
      " [7 8 9]]\n"
     ]
    }
   ],
   "source": [
    "print(\"--------原矩阵-------\")\n",
    "print(myMatrix)   #原矩阵\n",
    "print(\"--------显示转置矩阵-------\")\n",
    "print(myMatrix.T) #显示转置后的矩阵，原矩阵不便\n",
    "print(\"--------原矩阵-------\")\n",
    "print(myMatrix)\n",
    "myMatrix.transpose() # 转置矩阵  ##好像不起作用\n",
    "print(\"--------转置后-------\")\n",
    "print(myMatrix)\n",
    "myMatrix.transpose() # 再次转置回来\n",
    "print(\"--------原矩阵-------\")\n",
    "print(myMatrix)"
   ]
  },
  {
   "cell_type": "code",
   "execution_count": 30,
   "metadata": {},
   "outputs": [
    {
     "name": "stdout",
     "output_type": "stream",
     "text": [
      "inv(A): [[-7.14285714e-02 -1.23152709e-02  5.29556650e-02  9.60591133e-02\n",
      "  -8.62068966e-03]\n",
      " [ 2.14285714e-01 -3.76847291e-01  1.22044335e+00 -4.60591133e-01\n",
      "   3.36206897e-01]\n",
      " [-2.14285714e-01  8.25123153e-01 -2.04802956e+00  5.64039409e-01\n",
      "  -9.22413793e-01]\n",
      " [ 5.11521867e-17 -4.13793103e-01  8.79310345e-01 -1.72413793e-01\n",
      "   8.10344828e-01]\n",
      " [ 2.14285714e-01 -6.65024631e-02  1.85960591e-01 -8.12807882e-02\n",
      "  -1.46551724e-01]]\n",
      "-------------A*invA 得单位矩阵--------\n",
      "[[ 1.00000000e+00 -6.93889390e-17  1.30451205e-15 -8.32667268e-17\n",
      "   1.94289029e-16]\n",
      " [ 1.66533454e-16  1.00000000e+00  9.43689571e-16  3.88578059e-16\n",
      "   5.55111512e-17]\n",
      " [ 0.00000000e+00  6.93889390e-17  1.00000000e+00  3.60822483e-16\n",
      "  -1.94289029e-16]\n",
      " [-1.11022302e-16  1.24900090e-16 -3.05311332e-16  1.00000000e+00\n",
      "  -3.05311332e-16]\n",
      " [ 2.77555756e-17 -1.52655666e-16  9.15933995e-16 -2.77555756e-17\n",
      "   1.00000000e+00]]\n"
     ]
    }
   ],
   "source": [
    "A = mat([[1,2,4,5,7], [9,12,11,8,2], [6,4,3,2,1],[9,1,3,4,5],[0,2,3,4,1]])\n",
    "invA = np.linalg.inv(A)\n",
    "print(\"inv(A):\", invA)\n",
    "print(\"-------------A*invA 得单位矩阵--------\")\n",
    "print(A * invA)"
   ]
  },
  {
   "cell_type": "code",
   "execution_count": 31,
   "metadata": {},
   "outputs": [
    {
     "name": "stdout",
     "output_type": "stream",
     "text": [
      "modA: 10.04987562112089\n",
      "normA: 10.04987562112089\n"
     ]
    }
   ],
   "source": [
    "#计算L2范数\n",
    "A = [8, 1, 6]\n",
    "#手工计算\n",
    "modA = sqrt(sum(power(A,2)))\n",
    "print(\"modA:\",modA)\n",
    "\n",
    "#使用库函数计算\n",
    "normA = linalg.norm(A)\n",
    "print(\"normA:\", normA)"
   ]
  },
  {
   "cell_type": "code",
   "execution_count": 33,
   "metadata": {},
   "outputs": [
    {
     "name": "stdout",
     "output_type": "stream",
     "text": [
      "[[5.19615242]]\n"
     ]
    }
   ],
   "source": [
    "#向量的欧式距离计算\n",
    "vector1  = mat([1,2,3])\n",
    "vector2 = mat([4,5,6])\n",
    "print(sqrt((vector1 - vector2) * (vector1-vector2).T))"
   ]
  },
  {
   "cell_type": "code",
   "execution_count": 34,
   "metadata": {},
   "outputs": [
    {
     "name": "stdout",
     "output_type": "stream",
     "text": [
      "9\n"
     ]
    }
   ],
   "source": [
    "#向量的曼哈顿距离计算\n",
    "print(sum(abs(vector1 - vector2)))"
   ]
  },
  {
   "cell_type": "code",
   "execution_count": null,
   "metadata": {
    "collapsed": true
   },
   "outputs": [],
   "source": []
  }
 ],
 "metadata": {
  "kernelspec": {
   "display_name": "Python 3",
   "language": "python",
   "name": "python3"
  },
  "language_info": {
   "codemirror_mode": {
    "name": "ipython",
    "version": 3
   },
   "file_extension": ".py",
   "mimetype": "text/x-python",
   "name": "python",
   "nbconvert_exporter": "python",
   "pygments_lexer": "ipython3",
   "version": "3.6.7"
  }
 },
 "nbformat": 4,
 "nbformat_minor": 2
}
